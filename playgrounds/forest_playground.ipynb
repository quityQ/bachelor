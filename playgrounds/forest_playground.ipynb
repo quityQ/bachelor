{
 "cells": [
  {
   "cell_type": "markdown",
   "id": "8948c8d3",
   "metadata": {},
   "source": [
    "random Forest playgroung using the lab in itroduction to statistical learning as a reference"
   ]
  },
  {
   "cell_type": "code",
   "execution_count": null,
   "id": "0c7ee144",
   "metadata": {},
   "outputs": [],
   "source": [
    "import numpy as np\n",
    "import pandas as pd\n",
    "from matplotlib.pyplot import subplots\n",
    "from sklearn.tree import (DecisionTreeClassifier as DTC, \n",
    "                          DecisionTreeRegressor as DTR,\n",
    "                          plot_tree,\n",
    "                          export_text)\n",
    "from sklearn.metrics import (accuracy_score,\n",
    "                             log_loss)\n",
    "from sklearn.ensemble import (RandomForestRegressor as RF,\n",
    "                              GradientBoostingRegressor as GBR)\n",
    "import sklearn.model_selection as skm\n",
    "from ISLP.models import ModelSpec as MS\n",
    "from ISLP import load_data, confusion_table\n"
   ]
  },
  {
   "cell_type": "markdown",
   "id": "d90b2f62",
   "metadata": {},
   "source": [
    "First we load the our smaller data (1std_dataset)\n",
    "I have two ideas in mind on what to use as a classifier:\n",
    "First: use \"disstressed\" as a binary classifier; however since there is a very small number of distressed observations\n",
    "Second: use 'z_score' which is continious as the classifier by setting a threshold and define that a \"good\" and \"bad\" here we can move around the threshold and see how the model performs  "
   ]
  },
  {
   "cell_type": "code",
   "execution_count": null,
   "id": "13b19eba",
   "metadata": {},
   "outputs": [],
   "source": [
    "df = pd.read_csv(\"../datasets/1std_dataset.csv\")\n",
    "distressed = np.asarray(df['distressed'].values)\n",
    "model = MS(df.select_dtypes(include=np.number).columns, intercept=False)\n",
    "D = model.fit_transform(df)\n",
    "feature_names = list(D.columns)\n",
    "X = np.asarray(D)"
   ]
  },
  {
   "cell_type": "code",
   "execution_count": null,
   "id": "00bc0659",
   "metadata": {},
   "outputs": [],
   "source": [
    "clf = DTC(criterion='gini', \n",
    "          max_depth=30,\n",
    "          random_state=0)\n",
    "clf.fit(X, distressed)"
   ]
  },
  {
   "cell_type": "code",
   "execution_count": null,
   "id": "8f955e17",
   "metadata": {},
   "outputs": [],
   "source": [
    "accuracy_score(distressed, clf.predict(X))"
   ]
  },
  {
   "cell_type": "markdown",
   "id": "c8b253eb",
   "metadata": {},
   "source": [
    "With distressed the accuracy is 1, which is to be expected, since basically every observation is not distressed. (Out of 667 Observation 8 are distressed)"
   ]
  },
  {
   "cell_type": "markdown",
   "id": "b7703038",
   "metadata": {},
   "source": [
    "Let's use Z_score as a classifier now"
   ]
  },
  {
   "cell_type": "code",
   "execution_count": null,
   "id": "0d2d48d1",
   "metadata": {},
   "outputs": [],
   "source": [
    "zscore_save = np.where(df.z_score >= 1.8, 1, 0) \n",
    "model = MS(df.select_dtypes(include=np.number).columns.drop('z_score'), intercept=False)\n",
    "D = model.fit_transform(df)\n",
    "feature_names = list(D.columns)\n",
    "X = np.asarray(D)"
   ]
  },
  {
   "cell_type": "code",
   "execution_count": null,
   "id": "1b9463ce",
   "metadata": {},
   "outputs": [],
   "source": [
    "clf = DTC(criterion='gini', \n",
    "          max_depth=3)\n",
    "clf.fit(X, zscore_save)"
   ]
  },
  {
   "cell_type": "code",
   "execution_count": null,
   "id": "2117008b",
   "metadata": {},
   "outputs": [],
   "source": [
    "accuracy_score(zscore_save, clf.predict(X))"
   ]
  },
  {
   "cell_type": "markdown",
   "id": "c6e09793",
   "metadata": {},
   "source": [
    "for the first iteration we get a highly accurate model with with 7% error rate. This might be indication of an overfit, so we should be careful with the interpretation."
   ]
  },
  {
   "cell_type": "code",
   "execution_count": null,
   "id": "6c5abbfb",
   "metadata": {},
   "outputs": [],
   "source": [
    "resid_dev = np.sum(log_loss(zscore_save, clf.predict_proba(X)))\n",
    "resid_dev"
   ]
  },
  {
   "cell_type": "code",
   "execution_count": null,
   "id": "83821c37",
   "metadata": {},
   "outputs": [],
   "source": [
    "ax = subplots(figsize=(25,15))[1]\n",
    "plot_tree(clf,\n",
    "    feature_names=feature_names,\n",
    "    ax=ax);"
   ]
  },
  {
   "cell_type": "code",
   "execution_count": null,
   "id": "e9f3266d",
   "metadata": {},
   "outputs": [],
   "source": [
    "print(export_text(clf,\n",
    "feature_names=feature_names,\n",
    "show_weights=True))"
   ]
  },
  {
   "cell_type": "markdown",
   "id": "05cca4f8",
   "metadata": {},
   "source": [
    "Cost of revenue seems to be the most important feature in this model"
   ]
  },
  {
   "cell_type": "markdown",
   "id": "ae2b20fd",
   "metadata": {},
   "source": [
    "Next, we will split the data into some validation sets and see how the model performs on those"
   ]
  },
  {
   "cell_type": "code",
   "execution_count": null,
   "id": "b87f26b5",
   "metadata": {},
   "outputs": [],
   "source": [
    "validation = skm.ShuffleSplit(n_splits=5,\n",
    "                              test_size=0.2,\n",
    "                              random_state=0)\n",
    "results = skm.cross_validate(clf,\n",
    "                             D,\n",
    "                             zscore_save,\n",
    "                             cv=validation)\n",
    "results['test_score']"
   ]
  },
  {
   "cell_type": "markdown",
   "id": "28d87040",
   "metadata": {},
   "source": [
    "The model is still performing well on the vadation sets."
   ]
  },
  {
   "cell_type": "markdown",
   "id": "817ddc70",
   "metadata": {},
   "source": [
    "Now let's actually create new models based on training and validations sets "
   ]
  },
  {
   "cell_type": "code",
   "execution_count": null,
   "id": "67197e32",
   "metadata": {},
   "outputs": [],
   "source": [
    "(X_train,\n",
    " X_test,\n",
    " zscore_train,\n",
    " zscore_test) = skm.train_test_split(X,\n",
    "                                     zscore_save,\n",
    "                                     test_size=0.2,\n",
    "                                     random_state=0)"
   ]
  },
  {
   "cell_type": "code",
   "execution_count": null,
   "id": "e8c6d136",
   "metadata": {},
   "outputs": [],
   "source": [
    "clf = DTC(criterion='entropy', random_state=0)\n",
    "clf.fit(X_train, zscore_train)\n",
    "accuracy_score(zscore_test, clf.predict(X_test))"
   ]
  },
  {
   "cell_type": "code",
   "execution_count": null,
   "id": "058f3293",
   "metadata": {},
   "outputs": [],
   "source": [
    "ccp_path = clf.cost_complexity_pruning_path(X_train, zscore_train)\n",
    "kfold = skm.KFold(10,\n",
    "                  random_state=1,\n",
    "                  shuffle=True)"
   ]
  },
  {
   "cell_type": "code",
   "execution_count": null,
   "id": "1b656075",
   "metadata": {},
   "outputs": [],
   "source": [
    "grid = skm.GridSearchCV(clf,\n",
    "                        {'ccp_alpha': ccp_path.ccp_alphas},\n",
    "                        refit=True,\n",
    "                        cv=kfold,\n",
    "                        scoring='accuracy')\n",
    "grid.fit(X_train, zscore_train)\n",
    "grid.best_score_"
   ]
  },
  {
   "cell_type": "code",
   "execution_count": null,
   "id": "21b6ce0f",
   "metadata": {},
   "outputs": [],
   "source": [
    "# plot the results of the grid search \n",
    "ax = subplots(figsize=(25, 15))[1]\n",
    "best_ = grid.best_estimator_\n",
    "plot_tree(best_,\n",
    "          feature_names=feature_names,\n",
    "          ax=ax)"
   ]
  },
  {
   "cell_type": "code",
   "execution_count": null,
   "id": "d0559f4e",
   "metadata": {},
   "outputs": [],
   "source": [
    "best_.tree_.n_leaves"
   ]
  },
  {
   "cell_type": "code",
   "execution_count": null,
   "id": "7d0dc698",
   "metadata": {},
   "outputs": [],
   "source": [
    "print(accuracy_score(zscore_test,\n",
    "                     best_.predict(X_test)))\n",
    "confusion = confusion_table(best_.predict(X_test),\n",
    "                            zscore_test)\n",
    "confusion"
   ]
  },
  {
   "cell_type": "markdown",
   "id": "8fbcdc40",
   "metadata": {},
   "source": [
    "This is already a really good result."
   ]
  }
 ],
 "metadata": {
  "kernelspec": {
   "display_name": ".venv",
   "language": "python",
   "name": "python3"
  },
  "language_info": {
   "codemirror_mode": {
    "name": "ipython",
    "version": 3
   },
   "file_extension": ".py",
   "mimetype": "text/x-python",
   "name": "python",
   "nbconvert_exporter": "python",
   "pygments_lexer": "ipython3",
   "version": "3.12.1"
  }
 },
 "nbformat": 4,
 "nbformat_minor": 5
}
