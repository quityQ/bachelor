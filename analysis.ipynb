{
 "cells": [
  {
   "cell_type": "code",
   "execution_count": 3,
   "metadata": {},
   "outputs": [],
   "source": [
    "import pandas as pd\n",
    "import matplotlib.pyplot as plt\n",
    "import numpy as np\n"
   ]
  },
  {
   "cell_type": "markdown",
   "metadata": {},
   "source": [
    "Load dateset and display basic information"
   ]
  },
  {
   "cell_type": "code",
   "execution_count": 4,
   "metadata": {},
   "outputs": [
    {
     "name": "stdout",
     "output_type": "stream",
     "text": [
      "<class 'pandas.core.frame.DataFrame'>\n",
      "RangeIndex: 949 entries, 0 to 948\n",
      "Columns: 111 entries, Unnamed: 0 to marketcap\n",
      "dtypes: float64(91), int64(15), object(5)\n",
      "memory usage: 823.1+ KB\n"
     ]
    }
   ],
   "source": [
    "df = pd.read_csv('./datasets/full_cleaned_dataset.csv')\n",
    "df.info()"
   ]
  },
  {
   "cell_type": "markdown",
   "metadata": {},
   "source": [
    "Calcualte the Altman-Z score for each observation (where possible)\n",
    "And show the top and bottom 5 companies based on the Altman-Z score"
   ]
  },
  {
   "cell_type": "code",
   "execution_count": null,
   "metadata": {},
   "outputs": [
    {
     "name": "stdout",
     "output_type": "stream",
     "text": [
      "      symbol  year  z_score  distressed\n",
      "141  BION.SW  2020    46.41           0\n",
      "105  BANB.SW  2021    41.12           0\n",
      "296  EMSN.SW  2021    35.45           0\n",
      "144  BEAN.SW  2021    34.99           0\n",
      "142  BEAN.SW  2023    34.77           0\n",
      "297  EMSN.SW  2020    33.59           0\n",
      "145  BEAN.SW  2020    32.48           0\n",
      "294  EMSN.SW  2023    32.25           0\n",
      "661  SENS.SW  2023    26.94           0\n",
      "663  SENS.SW  2021    25.52           0\n",
      "      symbol  year  z_score  distressed\n",
      "16   ADXN.SW  2023  -113.64           0\n",
      "17   ADXN.SW  2022   -64.61           0\n",
      "18   ADXN.SW  2021   -16.77           0\n",
      "19   ADXN.SW  2020   -15.86           0\n",
      "638  SANN.SW  2022   -15.77           0\n",
      "397  IDIA.SW  2023    -9.46           0\n",
      "640  SANN.SW  2020    -9.39           0\n",
      "639  SANN.SW  2021    -9.15           0\n",
      "869  WIHN.SW  2023    -7.41           0\n",
      "870  WIHN.SW  2022    -6.28           0\n"
     ]
    }
   ],
   "source": [
    "df[\"z_score\"] = 1.2*(df[\"totalCurrentAssets\"]/df[\"totalAssets\"]) + 1.4*df[\"retainedEarnings\"]/df[\"totalAssets\"] + 3.3 * (df[\"ebitda\"]-df[\"depreciationAndAmortization_income_statement\"])/df[\"totalAssets\"] + 0.6*df[\"marketcap\"] / df[\"totalLiabilities\"] + 0.999*df[\"revenue\"]/df[\"totalAssets\"]\n",
    "df[\"z_score\"] = df[\"z_score\"].round(2)\n",
    "df.dropna(subset=['z_score'], inplace=True)\n",
    "\n",
    "df_zscore_analysis = df[['symbol', 'year', 'z_score', 'distressed', 'totalCurrentAssets', 'totalAssets', 'retainedEarnings', 'ebitda', 'depreciationAndAmortization_income_statement', 'totalLiabilities', 'marketcap', 'revenue']]\n",
    "df_zscore_print = df[['symbol', 'year', 'z_score', 'distressed']]\n",
    "print(df_zscore_print.sort_values(by=['z_score'], ascending=False).head(10))\n",
    "print(df_zscore_print.sort_values(by=['z_score'], ascending=True).head(10))"
   ]
  },
  {
   "cell_type": "markdown",
   "metadata": {},
   "source": [
    "The Altman-Z score is usually interpreted as follows:\n",
    "- Z > 3.0: Safe zone\n",
    "- 1.8 < Z < 3.0: Grey zone\n",
    "- Z < 1.8: Distress zone\n",
    "\n",
    "Looking at the top and bottom 10, we get very extreme values (above 25 and below -6) which are likely due to the faulty or inaccurate data. These entries should be considered as outliers and removed for further analysis.\n",
    "Interestingly, in the bottom 10, we don't have companies that we considered to be distressed. In a next step let's take a look at the score of the distressed companies."
   ]
  },
  {
   "cell_type": "code",
   "execution_count": 11,
   "metadata": {},
   "outputs": [
    {
     "name": "stdout",
     "output_type": "stream",
     "text": [
      "      symbol    year  z_score  distressed\n",
      "929  STLN.SW  2022.0     2.43         1.0\n",
      "930  STLN.SW  2022.0     2.43         1.0\n",
      "931  STLN.SW  2022.0     2.43         1.0\n",
      "932  STLN.SW  2022.0     2.43         1.0\n",
      "936  STLN.SW  2021.0     2.24         1.0\n",
      "935  STLN.SW  2021.0     2.24         1.0\n",
      "934  STLN.SW  2021.0     2.24         1.0\n",
      "933  STLN.SW  2021.0     2.24         1.0\n",
      "925  STLN.SW  2023.0     1.39         1.0\n",
      "926  STLN.SW  2023.0     1.39         1.0\n",
      "927  STLN.SW  2023.0     1.39         1.0\n",
      "928  STLN.SW  2023.0     1.39         1.0\n",
      "937  STLN.SW  2020.0     0.82         1.0\n",
      "938  STLN.SW  2020.0     0.82         1.0\n",
      "939  STLN.SW  2020.0     0.82         1.0\n",
      "940  STLN.SW  2020.0     0.82         1.0\n",
      "917  CSGN.SW  2022.0     0.46         1.0\n",
      "918  CSGN.SW  2021.0     0.41         1.0\n",
      "919  CSGN.SW  2020.0     0.39         1.0\n",
      "920  CSGN.SW  2019.0     0.35         1.0\n"
     ]
    }
   ],
   "source": [
    "print(df_zscore_print.where(df_zscore_print['distressed'] == 1).sort_values(by=['z_score'], ascending=False).dropna())"
   ]
  },
  {
   "cell_type": "markdown",
   "metadata": {},
   "source": [
    "We can see the the Altman-Z score does seem to be a decent indicator in the case of our distressed companies.\n",
    "CSGN (Credit Suisse) does have a very low score\n",
    "STLN (Swiss Steel Holding) had a low score in 2020, but it recovered in later years. Checking the news, it shows that the company went through rebranding, after some stressful years."
   ]
  },
  {
   "cell_type": "code",
   "execution_count": null,
   "metadata": {},
   "outputs": [],
   "source": []
  },
  {
   "cell_type": "code",
   "execution_count": 14,
   "metadata": {},
   "outputs": [
    {
     "data": {
      "text/plain": [
       "<BarContainer object of 759 artists>"
      ]
     },
     "execution_count": 14,
     "metadata": {},
     "output_type": "execute_result"
    },
    {
     "data": {
      "image/png": "[encoded data removed]",
      "text/plain": [
       "<Figure size 640x480 with 1 Axes>"
      ]
     },
     "metadata": {},
     "output_type": "display_data"
    }
   ],
   "source": [
    "# barchart of df_zscore_analysis\t\n",
    "df_zscore_analysis = df_zscore_analysis.sort_values(by=['z_score'], ascending=False)\n",
    "\n",
    "plt.bar(df_zscore_analysis['symbol'], df_zscore_analysis['z_score'])\n"
   ]
  }
 ],
 "metadata": {
  "kernelspec": {
   "display_name": ".venv",
   "language": "python",
   "name": "python3"
  },
  "language_info": {
   "codemirror_mode": {
    "name": "ipython",
    "version": 3
   },
   "file_extension": ".py",
   "mimetype": "text/x-python",
   "name": "python",
   "nbconvert_exporter": "python",
   "pygments_lexer": "ipython3",
   "version": "3.12.1"
  }
 },
 "nbformat": 4,
 "nbformat_minor": 2
}
