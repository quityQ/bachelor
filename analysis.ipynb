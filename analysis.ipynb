{
 "cells": [
  {
   "cell_type": "code",
   "execution_count": null,
   "metadata": {},
   "outputs": [],
   "source": [
    "import pandas as pd\n"
   ]
  },
  {
   "cell_type": "markdown",
   "metadata": {},
   "source": [
    "Load dateset and display basic information"
   ]
  },
  {
   "cell_type": "code",
   "execution_count": null,
   "metadata": {},
   "outputs": [],
   "source": [
    "df = pd.read_csv('./datasets/full_cleaned_dataset.csv')\n",
    "df.info()"
   ]
  },
  {
   "cell_type": "markdown",
   "metadata": {},
   "source": [
    "Calcualte the Altman-Z score for each observation (where possible)"
   ]
  },
  {
   "cell_type": "code",
   "execution_count": null,
   "metadata": {},
   "outputs": [],
   "source": [
    "df[\"z_score\"] = 1.2*(df[\"totalCurrentAssets\"]/df[\"totalAssets\"]) + 1.4*df[\"retainedEarnings\"]/df[\"totalAssets\"] + 3.3 * (df[\"ebitda\"]-df[\"depreciationAndAmortization_income_statement\"])/df[\"totalAssets\"] + 0.6*df[\"marketcap\"] / df[\"totalLiabilities\"] + 0.999*df[\"revenue\"]/df[\"totalAssets\"]\n",
    "df[\"z_score\"] = df[\"z_score\"].round(2)"
   ]
  }
 ],
 "metadata": {
  "kernelspec": {
   "display_name": ".venv",
   "language": "python",
   "name": "python3"
  },
  "language_info": {
   "codemirror_mode": {
    "name": "ipython",
    "version": 3
   },
   "file_extension": ".py",
   "mimetype": "text/x-python",
   "name": "python",
   "nbconvert_exporter": "python",
   "pygments_lexer": "ipython3",
   "version": "3.12.1"
  }
 },
 "nbformat": 4,
 "nbformat_minor": 2
}
